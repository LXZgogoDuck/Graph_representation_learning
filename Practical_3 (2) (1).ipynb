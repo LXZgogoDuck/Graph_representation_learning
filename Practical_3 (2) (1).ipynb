{
  "cells": [
    {
      "cell_type": "markdown",
      "metadata": {
        "id": "-qBOS0ukjxIQ"
      },
      "source": [
        "# Introduction\n",
        "Welcome to Practical 3 for Graph Representation Learning.  In this practical, you are expected to first implement two functions from scratch: **Graph Mini-Batching** and **Global Pooling**. Then, you need to incorporate these two functions into a graph neural network model to solve a **Graph Classification** task.\n",
        "\n",
        "- **Graph Mini-Batching** A mini-batch groups a set of graphs into a unified representation where it can efficiently be processed in parallel.\n",
        "- **Global Pooling** Obtain the graph feature based on all node features in the graph, in which you can use different operations such as summation, mean and max.\n",
        "\n",
        "We will be using [PyTorch](https://pytorch.org/docs/stable/index.html) and [PyG](https://pytorch-geometric.readthedocs.io/en/latest/) for experiments.\n",
        "\n",
        "The notebook is divided into sections, each of which comes with complete or partially completed code. Before each snippet of code there will be a description of what we are about to implement. The sections of code you need to complete are marked as **Tasks**.\n",
        "\n",
        "Please ensure that you operate within the framework given in the notebook and bring any questions you may have to the practical demonstrators. We suggest that you **DO NOT** edit code that is a part of the framework, since this will make it more difficult for demonstrators to assist if your code is broken.\n",
        "\n",
        "Since we are working in a Jupyter Notebook, the code is very interactive. When you're stuck on something, try adding a new block of code below what you're working on and using it to debug your code."
      ]
    },
    {
      "cell_type": "markdown",
      "metadata": {
        "id": "pWwo4htCSNj4"
      },
      "source": [
        "## Installing dependencies\n",
        "First of all, we advise you to enable GPU acceleration for your notebook. This can be done by navigating to `Runtime > Change runtime type > Hardware accelerator (GPU) > Save`. You may getting an error explaining that no GPUs are currently available. This is fine, you don't really need them for this practical, however they'll make your computations significantly faster.\n",
        "\n",
        "Some other tips & tricks:\n",
        "- press `Shift + Enter` to run a cell and move to the next one (`Ctrl + Enter` to only run it)\n",
        "- when you execute a cell, the variables you create are saved into a global namespace. As a consequence, changes in the code will not take effect until you re-run that specific cell.\n",
        "- remember to save your notebook every once in a while!"
      ]
    },
    {
      "cell_type": "code",
      "execution_count": null,
      "metadata": {
        "id": "tOALkyBjnFbj"
      },
      "outputs": [],
      "source": [
        "# Download the corresponding PyTorch Geometric module\n",
        "%%capture\n",
        "!pip install git+https://github.com/pyg-team/pytorch_geometric.git"
      ]
    },
    {
      "cell_type": "markdown",
      "metadata": {
        "id": "vkz6VLjOryE5"
      },
      "source": [
        "# Imports\n",
        "\n",
        "Run the following blocks of code to install and import and the necessary python packages."
      ]
    },
    {
      "cell_type": "code",
      "execution_count": 2,
      "metadata": {
        "id": "wY3B_uB3ry43"
      },
      "outputs": [],
      "source": [
        "# Let's first import all the things we are gonna need for this task\n",
        "import torch\n",
        "import time\n",
        "import torch.nn as nn\n",
        "import numpy as np\n",
        "import random\n",
        "import torch.nn.functional as F\n",
        "from torch_geometric.utils import scatter\n",
        "from torch_geometric.nn import MessagePassing\n",
        "import torch_geometric.utils as U\n",
        "# torch_geometric only used to load the Cora dataset\n",
        "from torch_geometric.datasets import Planetoid\n",
        "from torch_geometric.loader import DataLoader\n",
        "from torch_geometric.data.data import Data\n",
        "import torch_geometric.utils as U\n",
        "import torch\n",
        "from sklearn.metrics import roc_auc_score\n",
        "from torch_geometric.datasets import TUDataset"
      ]
    },
    {
      "cell_type": "markdown",
      "metadata": {
        "id": "7ZKndO0hYiKr"
      },
      "source": [
        "\n",
        "# Dataset\n",
        "\n",
        "## Loading MUTAG from TUDataset\n",
        "We will use TUDataset to load the MUTAG dataset, which contains molecular graphs of 188 chemical compounds divided into two classes according to their mutagenic effect on a bacterium.\n",
        "\n",
        "We construct three lists: A, X, Y, which correspond to a list of adj_matrix, a list of node features and a list of graph labels, respectively.\n",
        "\n",
        "Please **DO NOT** modify any part of the following block."
      ]
    },
    {
      "cell_type": "code",
      "execution_count": 63,
      "metadata": {
        "id": "xCTdKEvIobt6"
      },
      "outputs": [
        {
          "name": "stdout",
          "output_type": "stream",
          "text": [
            "188\n"
          ]
        }
      ],
      "source": [
        "# please **DO NOT** modify  any part of the following code  in this cell\n",
        "raw_dataset = TUDataset(root='data/TUDataset', name='MUTAG')\n",
        "batch_size = 32\n",
        "A = []\n",
        "X = []\n",
        "Y = []\n",
        "for graph in raw_dataset:\n",
        "    adj_matrix = U.to_dense_adj(graph.edge_index).squeeze(0)\n",
        "    A.append(adj_matrix)\n",
        "    X.append(graph.x)\n",
        "    Y.append(graph.y)\n",
        "\n",
        "print(len(A))"
      ]
    },
    {
      "cell_type": "markdown",
      "metadata": {
        "id": "bhI8VnJCvOf0"
      },
      "source": [
        "We can then run the following cell to output the first one element in the three constructed lists."
      ]
    },
    {
      "cell_type": "code",
      "execution_count": 64,
      "metadata": {
        "id": "VjKHlRk2tbxU"
      },
      "outputs": [
        {
          "name": "stdout",
          "output_type": "stream",
          "text": [
            "torch.Size([17, 17])\n",
            "torch.Size([17, 7])\n",
            "torch.Size([1])\n"
          ]
        }
      ],
      "source": [
        "print(A[0].shape)\n",
        "print(X[0].shape)\n",
        "print(Y[0].shape)"
      ]
    },
    {
      "cell_type": "markdown",
      "metadata": {
        "id": "UlV9O3MORCTm"
      },
      "source": [
        "## Task 1\n",
        "Define an iterator `graph_mini_batch` that takes in a list of adj_matrix (A), a list of node features (X), a list of graph labels (Y) and a batch_size B=64, and outputs four items $A_B$, $X_B$, $Y_B$ and $\\textsf{Batch}$ each time, such that the batched Adjacency matrices  $A_B$ are stacked in a diagonal fashion (creating a giant graph that holds multiple isolated subgraphs), and the batched node features list $X_B$ and the batched graph label list $Y_B$ are simply concatenated in the node dimension, i.e.,\n",
        "\n",
        "\\begin{split}\\mathbf{A_B} = \\begin{bmatrix} \\mathbf{A}_1 & & \\\\ & \\ddots & \\\\ & & \\mathbf{A}_n \\end{bmatrix}, \\qquad \\mathbf{X_B} = \\begin{bmatrix} \\mathbf{X}_1 \\\\ \\vdots \\\\ \\mathbf{X}_n \\end{bmatrix}, \\qquad \\mathbf{Y_B} = \\begin{bmatrix} \\mathbf{Y}_1 \\\\ \\vdots \\\\ \\mathbf{Y}_n \\end{bmatrix}.\\end{split}\n",
        "\n",
        "Furthermore, you are expected to output a  **`Batch` vector**, which maps each node to its respective graph in the batch:\n",
        "\n",
        "$$\n",
        "\\textrm{Batch} = [ 0, \\ldots, 0, 1, \\ldots, 1, 2, \\ldots, n, \\ldots, n]\n",
        "$$\n",
        "\n",
        "**Hints:**\n",
        "1. use the keyword **yield** to make your function be an iterator.\n",
        "2. note that the last batch might not have the enough items satisfying the specified batch size, so your function should be able to deal with such a case and have a correct output."
      ]
    },
    {
      "cell_type": "code",
      "execution_count": 74,
      "metadata": {},
      "outputs": [],
      "source": [
        "def graph_mini_batch(adj_matrix_list, x_list, y_list, batch_size=64):\n",
        "\n",
        "    num_graphs = len(adj_matrix_list)\n",
        "    # print(num_graphs)\n",
        "\n",
        "    num_batches = int(num_graphs/batch_size)\n",
        "    # print(num_batches)\n",
        "\n",
        "    for i in range(num_batches):\n",
        "        adj_batch_list = adj_matrix_list[i:i+batch_size]\n",
        "        x_batch_list = x_list[i:i+batch_size]\n",
        "        y_batch_list = y_list[i:i+batch_size]\n",
        "\n",
        "        # create A_B\n",
        "        total_rows = sum(mat.shape[0] for mat in adj_batch_list)\n",
        "        total_cols = sum(mat.shape[1] for mat in adj_batch_list)\n",
        "\n",
        "        node_counts = [A.shape[0] for A in adj_batch_list]\n",
        "        \n",
        "        A_B = np.zeros((total_rows, total_cols)) # Initialize a large zero matrix\n",
        "        # Fill in each block along the diagonal\n",
        "        row_start, col_start = 0, 0\n",
        "        for mat in adj_batch_list:\n",
        "            rows, cols = mat.shape\n",
        "            A_B[row_start:row_start+rows, col_start:col_start+cols] = mat\n",
        "            row_start += rows\n",
        "            col_start += cols\n",
        "\n",
        "        # create X_B, Y_B\n",
        "        X_B = np.concatenate(x_batch_list)\n",
        "        Y_B = np.concatenate(y_batch_list)\n",
        "\n",
        "        Batch = np.concatenate([[j] * node_counts[j] for j in range(len(adj_batch_list))])\n",
        "        A_B = torch.tensor(A_B)\n",
        "        X_B = torch.tensor(X_B)\n",
        "        Y_B = torch.tensor(Y_B)\n",
        "        Batch = torch.tensor(Batch)\n",
        "\n",
        "        yield A_B, X_B, Y_B, Batch\n",
        "\n",
        "    if (batch_size*num_batches < num_graphs):\n",
        "        n = batch_size*num_batches\n",
        "\n",
        "        adj_batch_list = adj_matrix_list[n:num_graphs]\n",
        "        x_batch_list = x_list[n:num_graphs]\n",
        "        y_batch_list = y_list[n:num_graphs]\n",
        "        \n",
        "        node_counts = [A.shape[0] for A in adj_batch_list]\n",
        "        total_rows = sum(mat.shape[0] for mat in adj_batch_list)\n",
        "        total_cols = sum(mat.shape[1] for mat in adj_batch_list)\n",
        "\n",
        "        A_B = np.zeros((total_rows, total_cols)) \n",
        "        row_start, col_start = 0, 0\n",
        "        for mat in adj_batch_list:\n",
        "            rows, cols = mat.shape\n",
        "            A_B[row_start:row_start+rows, col_start:col_start+cols] = mat\n",
        "            row_start += rows\n",
        "            col_start += cols\n",
        "\n",
        "        X_B = np.concatenate(x_batch_list)\n",
        "        Y_B = np.concatenate(y_batch_list)\n",
        "        Batch = np.concatenate([[j] * node_counts[j] for j in range(len(adj_batch_list))])\n",
        "\n",
        "        A_B = torch.tensor(A_B)\n",
        "        X_B = torch.tensor(X_B)\n",
        "        Y_B = torch.tensor(Y_B)\n",
        "        Batch = torch.tensor(Batch)\n",
        "\n",
        "\n",
        "        yield A_B, X_B, Y_B, Batch\n"
      ]
    },
    {
      "cell_type": "code",
      "execution_count": 60,
      "metadata": {},
      "outputs": [],
      "source": [
        "# import numpy as np\n",
        "# import scipy.sparse as sp\n",
        "\n",
        "# def graph_mini_batch(adj_matrix_list, x_list, y_list, batch_size=64):\n",
        "#     num_graphs = len(adj_matrix_list)\n",
        "    \n",
        "#     for i in range(0, num_graphs, batch_size):\n",
        "#         batch_adj = adj_matrix_list[i:i + batch_size]\n",
        "#         batch_features = x_list[i:i + batch_size]\n",
        "#         batch_labels = y_list[i:i + batch_size]\n",
        "        \n",
        "#         batch_adj = [sp.csr_matrix(A) if not sp.issparse(A) else A for A in batch_adj]\n",
        "#         node_counts = [A.shape[0] for A in batch_adj]\n",
        "        \n",
        "#         A_B = sp.block_diag(batch_adj, format='csr')\n",
        "#         X_B = np.vstack(batch_features)\n",
        "#         Y_B = np.concatenate(batch_labels)\n",
        "        \n",
        "#         Batch = np.concatenate([[j] * node_counts[j] for j in range(len(batch_adj))])\n",
        "        \n",
        "#         yield A_B, X_B, Y_B, Batch\n"
      ]
    },
    {
      "cell_type": "code",
      "execution_count": 75,
      "metadata": {
        "id": "dpZQz5Q-zBek"
      },
      "outputs": [
        {
          "name": "stdout",
          "output_type": "stream",
          "text": [
            "adj_matrix_size torch.Size([585, 585])\n",
            "x_size torch.Size([585, 7])\n",
            "y.size torch.Size([32])\n",
            "batch.size torch.Size([585])\n",
            "adj_matrix_size torch.Size([591, 591])\n",
            "x_size torch.Size([591, 7])\n",
            "y.size torch.Size([32])\n",
            "batch.size torch.Size([591])\n",
            "adj_matrix_size torch.Size([591, 591])\n",
            "x_size torch.Size([591, 7])\n",
            "y.size torch.Size([32])\n",
            "batch.size torch.Size([591])\n",
            "adj_matrix_size torch.Size([595, 595])\n",
            "x_size torch.Size([595, 7])\n",
            "y.size torch.Size([32])\n",
            "batch.size torch.Size([595])\n",
            "adj_matrix_size torch.Size([590, 590])\n",
            "x_size torch.Size([590, 7])\n",
            "y.size torch.Size([32])\n",
            "batch.size torch.Size([590])\n",
            "adj_matrix_size torch.Size([526, 526])\n",
            "x_size torch.Size([526, 7])\n",
            "y.size torch.Size([28])\n",
            "batch.size torch.Size([526])\n"
          ]
        }
      ],
      "source": [
        "# Test your batch function here\n",
        "for adj_matrix, x, y, batch in graph_mini_batch(A, X, Y, batch_size):\n",
        "     print(f\"adj_matrix_size {adj_matrix.size()}\") \n",
        "     print(f\"x_size {x.size()}\")         \n",
        "     print(f\"y.size {y.size()}\")\n",
        "     print(f\"batch.size {batch.size()}\")"
      ]
    },
    {
      "cell_type": "markdown",
      "metadata": {
        "id": "w7k4UptPbCf9"
      },
      "source": [
        "## Task 2\n",
        "Define a function `global_sum_pool` which takes a batch of node features and a Batch vector mapping each node to its respective graph in the batch, and outputs a batch of graph representation vectors by summing all node features in a graph.\n",
        "\n",
        "**Hints:** You are allowed to use the function scatter from torch_scatter library. See [here](https://pytorch-scatter.readthedocs.io/en/latest/functions/scatter.html#torch_scatter.scatter) for a detailed introduction about the usage."
      ]
    },
    {
      "cell_type": "code",
      "execution_count": 76,
      "metadata": {
        "id": "i6YFBsNrbdZr"
      },
      "outputs": [],
      "source": [
        "#scaler? sparse matrix? efficency? in practice?\n",
        "def global_sum_pool(x, batch):\n",
        "    \n",
        "    num_graphs = batch.max().item() + 1  # Calculate the number of graphs\n",
        "\n",
        "    graph_representations = scatter(x, batch, dim=0, reduce='sum', dim_size=num_graphs)\n",
        "\n",
        "    return graph_representations\n"
      ]
    },
    {
      "cell_type": "code",
      "execution_count": 77,
      "metadata": {
        "id": "ABuRS36DVn5q"
      },
      "outputs": [
        {
          "name": "stdout",
          "output_type": "stream",
          "text": [
            "torch.Size([32, 7])\n",
            "torch.Size([32, 7])\n",
            "torch.Size([32, 7])\n",
            "torch.Size([32, 7])\n",
            "torch.Size([32, 7])\n",
            "torch.Size([28, 7])\n"
          ]
        }
      ],
      "source": [
        "# Test your pooling function, assuming you are given a mini-batch of node features and a batch vector\n",
        "for _, x, _ , batch in graph_mini_batch(A, X, Y, batch_size):\n",
        "      sum_graph_rep =  global_sum_pool(x, batch)\n",
        "      print(sum_graph_rep.size())"
      ]
    },
    {
      "cell_type": "markdown",
      "metadata": {
        "id": "c_BV3iHA9Gaw"
      },
      "source": [
        "# Model\n",
        "We now implement a GNN model, `GIN`, which is used to do the graph classification. **DO NOT** change the following block."
      ]
    },
    {
      "cell_type": "code",
      "execution_count": 78,
      "metadata": {
        "id": "UUQGCU9-YQVP"
      },
      "outputs": [],
      "source": [
        "class GINConv(MessagePassing):\n",
        "    def __init__(self, emb_dim):\n",
        "        '''\n",
        "            emb_dim (int): node embedding dimensionality\n",
        "        '''\n",
        "        super(GINConv, self).__init__(aggr = \"add\")\n",
        "\n",
        "        self.mlp = torch.nn.Sequential(torch.nn.Linear(emb_dim, 2*emb_dim), torch.nn.BatchNorm1d(2*emb_dim), torch.nn.ReLU(), torch.nn.Linear(2*emb_dim, emb_dim))\n",
        "        self.eps = torch.nn.Parameter(torch.Tensor([0]))\n",
        "\n",
        "    def forward(self, x, edge_index):\n",
        "        out = self.mlp((1 + self.eps) *x + self.propagate(edge_index, x=x))\n",
        "        return out\n",
        "\n",
        "    def message(self, x_j):\n",
        "        return F.relu(x_j)\n",
        "\n",
        "    def update(self, aggr_out):\n",
        "        return aggr_out\n",
        "\n",
        "\n",
        "### GNN to generate node embedding\n",
        "class GIN(torch.nn.Module):\n",
        "    \"\"\"\n",
        "    Output:\n",
        "        node representations\n",
        "    \"\"\"\n",
        "    def __init__(self, num_layer, emb_dim, hidden_dim, drop_ratio = 0, JK = \"last\", residual = False):\n",
        "        '''\n",
        "            emb_dim (int): node embedding dimensionality\n",
        "            num_layer (int): number of GNN message passing layers\n",
        "        '''\n",
        "        super(GIN, self).__init__()\n",
        "        self.num_layer = num_layer\n",
        "        self.drop_ratio = drop_ratio\n",
        "        self.JK = JK\n",
        "        ### add residual connection or not\n",
        "        self.residual = residual\n",
        "        if self.num_layer < 2:\n",
        "            raise ValueError(\"Number of GNN layers must be greater than 1.\")\n",
        "\n",
        "        self.embed = torch.nn.Linear(emb_dim, hidden_dim)\n",
        "        self.convs = torch.nn.ModuleList()\n",
        "        self.batch_norms = torch.nn.ModuleList()\n",
        "        for layer in range(num_layer):\n",
        "            self.convs.append(GINConv(hidden_dim))\n",
        "            self.batch_norms.append(torch.nn.BatchNorm1d(hidden_dim))\n",
        "\n",
        "    def forward(self, x, edge_index):\n",
        "        h_list = [self.embed(x)]\n",
        "        for layer in range(self.num_layer):\n",
        "            h = self.convs[layer](h_list[layer], edge_index)\n",
        "            h = self.batch_norms[layer](h)\n",
        "            if layer == self.num_layer - 1:\n",
        "                #remove relu for the last layer\n",
        "                h = F.dropout(h, self.drop_ratio, training = self.training)\n",
        "            else:\n",
        "                h = F.dropout(F.relu(h), self.drop_ratio, training = self.training)\n",
        "\n",
        "            if self.residual:\n",
        "                h += h_list[layer]\n",
        "\n",
        "            h_list.append(h)\n",
        "        ### Different implementations of Jk-concat\n",
        "        if self.JK == \"last\":\n",
        "            node_representation = h_list[-1]\n",
        "        elif self.JK == \"sum\":\n",
        "            node_representation = 0\n",
        "            for layer in range(self.num_layer + 1):\n",
        "                node_representation += h_list[layer]\n",
        "\n",
        "        return node_representation"
      ]
    },
    {
      "cell_type": "markdown",
      "metadata": {
        "id": "wIrzU7d_-K1L"
      },
      "source": [
        "### Define the hyperparameters we are going to use"
      ]
    },
    {
      "cell_type": "code",
      "execution_count": 105,
      "metadata": {
        "id": "uATxaDKL-QzC"
      },
      "outputs": [],
      "source": [
        "params = {\n",
        "    \"input_features\": 7,\n",
        "    \"hidden_features\": 50,\n",
        "    \"num_layers\": 3,\n",
        "    \"learning_rate\": 1e-4,\n",
        "    \"weight_decay\": 0,\n",
        "    \"num_epochs\": 100,\n",
        "    \"num_classes\": 2,\n",
        "    \"batch_size\": 62\n",
        "}\n"
      ]
    },
    {
      "cell_type": "markdown",
      "metadata": {
        "id": "sX7kDGkY-jdk"
      },
      "source": [
        "Now, we come to the most exciting part, that is, training and evaluating the model based on the graph mini-batch and the graph pooling functions you implemented above.\n",
        "\n",
        "By checking the training time,  you can see the power of the graph batching by changing the batch_size, i.e., from 1 to 64."
      ]
    },
    {
      "cell_type": "code",
      "execution_count": 106,
      "metadata": {
        "id": "64Mw0rgPeiEA"
      },
      "outputs": [
        {
          "name": "stdout",
          "output_type": "stream",
          "text": [
            "epoch=0, loss=1.020653486251831, accuracy=0.25531914830207825\n",
            "epoch=10, loss=8.111856004688889e-05, accuracy=0.271276593208313\n",
            "epoch=20, loss=2.1278618078213185e-05, accuracy=0.9095744490623474\n",
            "epoch=30, loss=1.1265208740951493e-05, accuracy=0.9521276354789734\n",
            "epoch=40, loss=7.808174814272206e-06, accuracy=0.9521276354789734\n",
            "epoch=50, loss=5.424006303655915e-06, accuracy=0.9680851101875305\n",
            "epoch=60, loss=4.351128154667094e-06, accuracy=0.9680851101875305\n",
            "epoch=70, loss=3.635875600593863e-06, accuracy=0.9680851101875305\n",
            "epoch=80, loss=2.980227009174996e-06, accuracy=0.9680851101875305\n",
            "epoch=90, loss=2.3841823804104934e-06, accuracy=0.9680851101875305\n",
            "time=3.9510109424591064\n"
          ]
        }
      ],
      "source": [
        "begin_time = time.time()\n",
        "\n",
        "model = GIN(params[\"num_layers\"], params[\"input_features\"], params[\"hidden_features\"])\n",
        "pooling = global_sum_pool\n",
        "graph_pred_linear = torch.nn.Linear(params[\"hidden_features\"], params[\"num_classes\"])\n",
        "loss_fn = nn.CrossEntropyLoss()\n",
        "model_param_group = [{\"params\": model.parameters(), \"lr\": params[\"learning_rate\"]}]\n",
        "if graph_pred_linear is not None:\n",
        "        model_param_group.append(\n",
        "            {\"params\": graph_pred_linear.parameters(), \"lr\": params[\"learning_rate\"]}\n",
        "        )\n",
        "\n",
        "optimizer = torch.optim.AdamW(model_param_group,\n",
        "                                lr=params[\"learning_rate\"],\n",
        "                                weight_decay=params[\"weight_decay\"])\n",
        "for epoch in range(params[\"num_epochs\"]):\n",
        "  model.train()\n",
        "  for adj_matrix, x, y, batch in graph_mini_batch(A, X, Y, params[\"batch_size\"]):\n",
        "      optimizer.zero_grad()\n",
        "      edge_index = U.dense_to_sparse(adj_matrix)[0]\n",
        "      nodes = model(x, edge_index)\n",
        "      graph_reps = pooling(nodes, batch)\n",
        "      pred = graph_pred_linear(graph_reps)\n",
        "      loss = loss_fn(pred, y)\n",
        "      loss.backward()\n",
        "      optimizer.step()\n",
        "  if epoch % 10 == 0:\n",
        "      model.eval()\n",
        "      correct = 0\n",
        "      total_num = 0\n",
        "      for adj_matrix, x, y, batch in graph_mini_batch(A, X, Y, params[\"batch_size\"]):\n",
        "        optimizer.zero_grad()\n",
        "        edge_index = U.dense_to_sparse(adj_matrix)[0]\n",
        "        nodes = model(x, edge_index)\n",
        "        graph_reps = pooling(nodes, batch)\n",
        "        pred = graph_pred_linear(graph_reps)\n",
        "        correct += (pred.argmax(dim=-1) == y).sum()\n",
        "        total_num += len(y)\n",
        "      print(\"epoch={}, loss={}, accuracy={}\".format(epoch, loss.item(), correct/total_num))\n",
        "print(\"time={}\".format(time.time()-begin_time))"
      ]
    },
    {
      "cell_type": "code",
      "execution_count": 107,
      "metadata": {},
      "outputs": [
        {
          "data": {
            "image/png": "[encoded data removed]",
            "text/plain": [
              "<Figure size 1000x600 with 1 Axes>"
            ]
          },
          "metadata": {},
          "output_type": "display_data"
        }
      ],
      "source": [
        "import matplotlib.pyplot as plt\n",
        "\n",
        "batch_sizes = range(1, 65)  \n",
        "execution_times = []\n",
        "\n",
        "for batch_size in batch_sizes:\n",
        "    # Update the batch size in the parameters dictionary\n",
        "    params[\"batch_size\"] = batch_size\n",
        "    \n",
        "    # Initialize model, pooling function, linear layer, loss, and optimizer\n",
        "    model = GIN(params[\"num_layers\"], params[\"input_features\"], params[\"hidden_features\"])\n",
        "    pooling = global_sum_pool\n",
        "    graph_pred_linear = torch.nn.Linear(params[\"hidden_features\"], params[\"num_classes\"])\n",
        "    loss_fn = nn.CrossEntropyLoss()\n",
        "    model_param_group = [{\"params\": model.parameters(), \"lr\": params[\"learning_rate\"]}]\n",
        "    if graph_pred_linear is not None:\n",
        "        model_param_group.append(\n",
        "            {\"params\": graph_pred_linear.parameters(), \"lr\": params[\"learning_rate\"]}\n",
        "        )\n",
        "    optimizer = torch.optim.AdamW(model_param_group,\n",
        "                                  lr=params[\"learning_rate\"],\n",
        "                                  weight_decay=params[\"weight_decay\"])\n",
        "    \n",
        "    start_time = time.time()\n",
        "\n",
        "    model.train()\n",
        "    for adj_matrix, x, y, batch in graph_mini_batch(A, X, Y, params[\"batch_size\"]):\n",
        "        optimizer.zero_grad()\n",
        "        edge_index = U.dense_to_sparse(adj_matrix)[0]\n",
        "        nodes = model(x, edge_index)\n",
        "        graph_reps = pooling(nodes, batch)\n",
        "        pred = graph_pred_linear(graph_reps)\n",
        "        loss = loss_fn(pred, y)\n",
        "        loss.backward()\n",
        "        optimizer.step()\n",
        "\n",
        "    execution_times.append(time.time() - start_time)\n",
        "\n",
        "plt.figure(figsize=(10, 6))\n",
        "plt.plot(batch_sizes, execution_times, marker='o')\n",
        "plt.xlabel(\"Batch Size\")\n",
        "plt.ylabel(\"Execution Time (seconds)\")\n",
        "plt.title(\"Model Execution Time vs Batch Size\")\n",
        "plt.grid(True)\n",
        "plt.show()\n"
      ]
    },
    {
      "cell_type": "markdown",
      "metadata": {
        "id": "ieNyeHvcVR9D"
      },
      "source": [
        "### Task 3 (Optional)\n",
        "This is an optional task. You are expected to implement 10-Fold Cross-validation. The general procedure is as follows:\n",
        "\n",
        "1. Shuffle the dataset randomly.\n",
        "2. Split the dataset into $k$ groups.\n",
        "For each unique group:\n",
        "  - Take the group as a hold out or test data set\n",
        "  - Take the remaining groups as a training data set\n",
        "  - Fit a model on the training set and evaluate it on the test set.\n",
        "  Retain the evaluation score and discard the model\n",
        "  - Summarize the skill of the model using the sample of model evaluation scores"
      ]
    },
    {
      "cell_type": "code",
      "execution_count": 110,
      "metadata": {
        "id": "VeZtBHmhhtX4"
      },
      "outputs": [
        {
          "name": "stdout",
          "output_type": "stream",
          "text": [
            "Fold 1/10\n",
            "Fold 1 Accuracy: 0.9474\n",
            "Fold 2/10\n",
            "Fold 2 Accuracy: 0.7895\n",
            "Fold 3/10\n",
            "Fold 3 Accuracy: 0.8421\n",
            "Fold 4/10\n",
            "Fold 4 Accuracy: 0.7895\n",
            "Fold 5/10\n",
            "Fold 5 Accuracy: 0.6842\n",
            "Fold 6/10\n",
            "Fold 6 Accuracy: 0.6842\n",
            "Fold 7/10\n",
            "Fold 7 Accuracy: 0.6842\n",
            "Fold 8/10\n",
            "Fold 8 Accuracy: 0.6842\n",
            "Fold 9/10\n",
            "Fold 9 Accuracy: 0.8333\n",
            "Fold 10/10\n",
            "Fold 10 Accuracy: 0.8889\n",
            "Mean Accuracy: 0.7827, Standard Deviation: 0.0913\n",
            "Total Time: 4.09 seconds\n"
          ]
        }
      ],
      "source": [
        "import numpy as np\n",
        "import torch\n",
        "from sklearn.model_selection import KFold\n",
        "from torch import nn\n",
        "import torch.optim as optim\n",
        "import time\n",
        "\n",
        "params = {\n",
        "    \"num_layers\": 3,\n",
        "    \"input_features\": X[0].shape[1],  \n",
        "    \"hidden_features\": 64,\n",
        "    \"num_classes\": len(torch.unique(torch.tensor(Y))), \n",
        "    \"learning_rate\": 0.001,\n",
        "    \"weight_decay\": 0.0001,\n",
        "    \"batch_size\": 32,\n",
        "    \"num_epochs\": 10,\n",
        "}\n",
        "\n",
        "def train_and_evaluate(A_train, X_train, Y_train, A_test, X_test, Y_test, params):\n",
        "\n",
        "    model = GIN(params[\"num_layers\"], params[\"input_features\"], params[\"hidden_features\"])\n",
        "    graph_pred_linear = torch.nn.Linear(params[\"hidden_features\"], params[\"num_classes\"])\n",
        "    loss_fn = nn.CrossEntropyLoss()\n",
        "\n",
        "    model_param_group = [{\"params\": model.parameters(), \"lr\": params[\"learning_rate\"]}]\n",
        "    model_param_group.append({\"params\": graph_pred_linear.parameters(), \"lr\": params[\"learning_rate\"]})\n",
        "    optimizer = optim.AdamW(model_param_group, lr=params[\"learning_rate\"], weight_decay=params[\"weight_decay\"])\n",
        "\n",
        "    for epoch in range(params[\"num_epochs\"]):\n",
        "        model.train()\n",
        "        for adj_matrix, x, y, batch in graph_mini_batch(A_train, X_train, Y_train, params[\"batch_size\"]):\n",
        "            optimizer.zero_grad()\n",
        "            edge_index = U.dense_to_sparse(adj_matrix)[0]\n",
        "            nodes = model(x, edge_index)\n",
        "            graph_reps = global_sum_pool(nodes, batch)\n",
        "            pred = graph_pred_linear(graph_reps)\n",
        "            loss = loss_fn(pred, y)\n",
        "            loss.backward()\n",
        "            optimizer.step()\n",
        "\n",
        "    model.eval()\n",
        "    correct, total = 0, 0\n",
        "    with torch.no_grad():\n",
        "        for adj_matrix, x, y, batch in graph_mini_batch(A_test, X_test, Y_test, params[\"batch_size\"]):\n",
        "            edge_index = U.dense_to_sparse(adj_matrix)[0]\n",
        "            nodes = model(x, edge_index)\n",
        "            graph_reps = global_sum_pool(nodes, batch)\n",
        "            pred = graph_pred_linear(graph_reps)\n",
        "            correct += (pred.argmax(dim=-1) == y).sum().item()\n",
        "            total += len(y)\n",
        "\n",
        "    return correct / total\n",
        "\n",
        "def cross_validate_model(A, X, Y, params, k=10):\n",
        "    kfold = KFold(n_splits=k, shuffle=True, random_state=42)\n",
        "    scores = []\n",
        "    \n",
        "    for fold, (train_idx, test_idx) in enumerate(kfold.split(A)):\n",
        "        print(f\"Fold {fold + 1}/{k}\")\n",
        "        \n",
        "        A_train = [A[i] for i in train_idx]\n",
        "        X_train = [X[i] for i in train_idx]\n",
        "        Y_train = [Y[i] for i in train_idx]\n",
        "        A_test = [A[i] for i in test_idx]\n",
        "        X_test = [X[i] for i in test_idx]\n",
        "        Y_test = [Y[i] for i in test_idx]\n",
        "\n",
        "        accuracy = train_and_evaluate(A_train, X_train, Y_train, A_test, X_test, Y_test, params)\n",
        "        scores.append(accuracy)\n",
        "        print(f\"Fold {fold + 1} Accuracy: {accuracy:.4f}\")\n",
        "    \n",
        "    mean_accuracy = np.mean(scores)\n",
        "    std_accuracy = np.std(scores)\n",
        "    print(f\"Mean Accuracy: {mean_accuracy:.4f}, Standard Deviation: {std_accuracy:.4f}\")\n",
        "    return mean_accuracy, std_accuracy\n",
        "\n",
        "begin_time = time.time()\n",
        "mean_accuracy, std_accuracy = cross_validate_model(A, X, Y, params)\n",
        "print(\"Total Time: {:.2f} seconds\".format(time.time() - begin_time))\n"
      ]
    }
  ],
  "metadata": {
    "accelerator": "GPU",
    "colab": {
      "provenance": []
    },
    "kernelspec": {
      "display_name": "Python 3",
      "name": "python3"
    },
    "language_info": {
      "codemirror_mode": {
        "name": "ipython",
        "version": 3
      },
      "file_extension": ".py",
      "mimetype": "text/x-python",
      "name": "python",
      "nbconvert_exporter": "python",
      "pygments_lexer": "ipython3",
      "version": "3.11.7"
    }
  },
  "nbformat": 4,
  "nbformat_minor": 0
}
