{
 "cells": [
  {
   "cell_type": "markdown",
   "metadata": {
    "id": "hwLX9xkQgWo8"
   },
   "source": [
    "# Practical 2\n",
    "## A Graph Neural Network Model for Node Classification\n",
    "### (and how to build it from scratch)\n",
    "\n",
    "### Overview\n",
    "In this practical, you will implement the base graph neural network model from scratch (without using PyTorch Geometric), and prepare it for node classification. You will train your model for node classification on Cora dataset, which is an academic citation network. The task is to predict the category of each paper (which corresponds to a node in the citation network) among the seven available. We introduced the base graph neural network model in the course, as an instance of message passing neural networks, and studied a particular parameterization of this model.\n",
    "\n",
    "For each part and task, answer the given questions and complete the code where missing (this is indicated by the `pass` keyword)."
   ]
  },
  {
   "cell_type": "markdown",
   "metadata": {
    "id": "KIKfciO1h74B"
   },
   "source": [
    "## Part 0: Installing dependencies\n",
    "Despite the fact we will not use PyTorch Geometric to build the GNN, we will use it to handle the Cora dataset, as it is included in the base distribution.\n",
    "Follow the given instructions to set up your Colab notebook correctly.\n",
    "\n",
    "First of all, we advice you to enable GPU acceleration for your notebook. This can be done by navigating to `Runtime > Change runtime type > Hardware accelerator (GPU) > Save`. You may getting an error explaining that no GPUs are currently available. This is fine, you don't really need them for this practical, however they'll make your computations significantly faster.\n",
    "\n",
    "Some other tips & tricks:\n",
    "- press `Shift + Enter` to run a cell and move to the next one (`Ctrl + Enter` to only run it)\n",
    "- when you execute a cell, the variables you create are saved into a global namespace. As a consequence, changes in the code will not take effect until you re-run that specific cell.\n",
    "- remember to save your notebook every once in a while!"
   ]
  },
  {
   "cell_type": "code",
   "execution_count": 1,
   "metadata": {
    "colab": {
     "base_uri": "https://localhost:8080/"
    },
    "executionInfo": {
     "elapsed": 5828,
     "status": "ok",
     "timestamp": 1698883347330,
     "user": {
      "displayName": "Emily Jin",
      "userId": "00213674014052790913"
     },
     "user_tz": 0
    },
    "id": "rb2wIZQdTsDG",
    "outputId": "c29a7d84-9e33-461a-c652-83e15ee5b323"
   },
   "outputs": [
    {
     "name": "stdout",
     "output_type": "stream",
     "text": [
      "2.4.0\r\n"
     ]
    }
   ],
   "source": [
    "# Check PyTorch version installed on this system\n",
    "!python -c \"import torch; print(torch.__version__)\""
   ]
  },
  {
   "cell_type": "code",
   "execution_count": 2,
   "metadata": {
    "executionInfo": {
     "elapsed": 22431,
     "status": "ok",
     "timestamp": 1698883371501,
     "user": {
      "displayName": "Emily Jin",
      "userId": "00213674014052790913"
     },
     "user_tz": 0
    },
    "id": "uvLG28XMUSCF"
   },
   "outputs": [],
   "source": [
    "%%capture\n",
    "# Download the corresponding PyTorch Geometric module\n",
    "\"\"\"\n",
    "Assign to TORCH with what you get from the cell above. E.g., export TORCH=1.12.1+cu113\n",
    "# \"\"\"\n",
    "# !pip install torch-scatter -f https://data.pyg.org/whl/torch-2.4.0.html\n",
    "# !pip install torch-sparse -f https://data.pyg.org/whl/torch-2.4.0.html\n",
    "# !pip install torch-geometric"
   ]
  },
  {
   "cell_type": "markdown",
   "metadata": {
    "id": "EwIPZRdzlSTY"
   },
   "source": [
    "## Part 1: Building a GNN\n",
    "In this part, you will build a GNN using PyTorch, aiming to emulate the PyTorch Geometric modules. You will construct your neural network using PyTorch nn modules, and build training and testing helper functions to train and evaluate your model."
   ]
  },
  {
   "cell_type": "markdown",
   "metadata": {
    "id": "Bh2SbPurluzN"
   },
   "source": [
    "### Task 1.1\n",
    "Understand the base structure of a PyTorch neural network model, namely `torch.nn.Module`, and build your GNN as a class with its own instantiation of `__init__` and `forward`. You will define GNN components within `__init__`, and construct the GNN data flow in `forward`. We recommend that you construct your model such that the number of layers is parametrized. That is, you can increase or decrease the number of layers simply by changing the range of an inner loop that creates the needed layers.\n",
    "\n",
    "Furthermore, as a node classification GNN is composed by a sequence of Graph Convolution Layers and by a Multi Layer Perceptron head used to classify each node, we suggest to define a separate module for each of these components, and then aggregate them together in the final model."
   ]
  },
  {
   "cell_type": "code",
   "execution_count": 3,
   "metadata": {
    "id": "muJ-TbV6muhI"
   },
   "outputs": [
    {
     "name": "stderr",
     "output_type": "stream",
     "text": [
      "/Users/fairyliu/anaconda3/lib/python3.11/site-packages/torch_geometric/data/in_memory_dataset.py:300: UserWarning: It is not recommended to directly access the internal storage format `data` of an 'InMemoryDataset'. If you are absolutely certain what you are doing, access the internal storage via `InMemoryDataset._data` instead to suppress this warning. Alternatively, you can access stacked individual attributes of every graph via `dataset.{attr_name}`.\n",
      "  warnings.warn(msg)\n"
     ]
    }
   ],
   "source": [
    "# Let's first import all the things we are gonna need for this task\n",
    "import torch\n",
    "import torch.nn as nn\n",
    "import numpy as np\n",
    "import torch.nn.functional as F\n",
    "# torch_geometric only used to load the Cora dataset\n",
    "from torch_geometric.datasets import Planetoid\n",
    "from torch_geometric.loader import DataLoader\n",
    "import torch_geometric.utils as U\n",
    "    \n",
    "device = torch.device(\"mps\")\n",
    "\n",
    "dataset = Planetoid(\"/tmp/Cora\", name=\"Cora\")\n",
    "num_nodes = dataset.data.num_nodes\n",
    "num_edges = dataset.data.num_edges // 2\n",
    "num_features = dataset.num_node_features\n",
    "num_classes = dataset.num_classes"
   ]
  },
  {
   "cell_type": "code",
   "execution_count": 4,
   "metadata": {},
   "outputs": [
    {
     "name": "stdout",
     "output_type": "stream",
     "text": [
      "2708\n",
      "5278\n",
      "1433\n",
      "7\n"
     ]
    }
   ],
   "source": [
    "print(num_nodes)\n",
    "print(num_edges)\n",
    "print(num_features)\n",
    "print(num_classes)"
   ]
  },
  {
   "cell_type": "markdown",
   "metadata": {
    "id": "8rwDJj57m-H3"
   },
   "source": [
    "Please complete the following classes, adding the respective `__init__` and `forward` methods.  \n",
    "Please construct your model such that the number of layers is parametrized. That is, you can increase or decrease the number of layers simply by changing the range of an inner loop that creates the needed layers. In general, try to hard-code the least amount of behaviour inside your network. Prefer, instead, the use of parameters passed during initialization, as it will come in handy later on (e.g., you can chosse to hard code the activation functions used for each model but also leave them as a model parameter)."
   ]
  },
  {
   "cell_type": "markdown",
   "metadata": {
    "id": "D0jVmuI-u0uF"
   },
   "source": [
    "A `GNNLayer` computes the operations seen in the lectures, that is:\n",
    "\n",
    "$ h_i^{(t+1)} = \\sigma(W^{(t)}_{self} h_i^{(t)} + W^{(t)}_{neigh} \\sum_{j \\in neigh(i)} h_j^{(t)})$.\n",
    "\n",
    "Remember that PyTorch is realy efficient in parallelizing computations by vectorizing them. In other words, you don't need to (you must not!) loop over all the neighbours of each node to compute the summation in the above equation. Use instead matrix operations."
   ]
  },
  {
   "cell_type": "code",
   "execution_count": 5,
   "metadata": {
    "id": "TU3I3uOMNlIe"
   },
   "outputs": [],
   "source": [
    "class GNNLayer(nn.Module):\n",
    "\n",
    "    # create one single layer\n",
    "    # H Wself + A H Wneigh.  H: n*input, Wself: input*output\n",
    "    # _init_ specifies parameters in one layer (the knowledge passing function is one layer's operation)\n",
    "\n",
    "    def __init__(self, input_dim, output_dim, activation=nn.ReLU()):\n",
    "        super(GNNLayer, self).__init__()\n",
    "        \n",
    "        # Define self and neighbor transformation matrices\n",
    "        self.W_self = nn.Linear(input_dim, output_dim)  # W_self matrix\n",
    "        self.W_neigh = nn.Linear(input_dim, output_dim) # W_neigh matrix\n",
    "        self.activation = activation \n",
    "    \n",
    "    def forward(self, node_feats, adj_matrix):\n",
    "        # Apply the self-node transformation\n",
    "        self_feats = self.W_self(node_feats)  # Shape: (num_nodes, output_dim)\n",
    "        \n",
    "        # Aggregate neighbor features\n",
    "        neigh_feats = torch.matmul(adj_matrix, node_feats)  # Shape: (num_nodes, input_dim)\n",
    "        neigh_feats = self.W_neigh(neigh_feats)  \n",
    "        \n",
    "        # Sum self and neighbor features, then apply activation\n",
    "        out = self_feats + neigh_feats\n",
    "        out = self.activation(out)\n",
    "        \n",
    "        return out"
   ]
  },
  {
   "cell_type": "markdown",
   "metadata": {
    "id": "MOXzfLBRuFJ5"
   },
   "source": [
    "The `GNNModule` is a collection of GNNLayers. In PyTorch you can create a list of layers by using `nn.ModuleList(layer_1, layer_2, ...)` or, equivalentely `nn.ModuleList(*layer_list)`. Remember activation functions!"
   ]
  },
  {
   "cell_type": "code",
   "execution_count": 6,
   "metadata": {
    "id": "TEnA7gA9pYU3"
   },
   "outputs": [],
   "source": [
    "class GNNModule(nn.Module):\n",
    " \n",
    "    # loop through multiple layers\n",
    "    # input layer: input->hidden, (hidden->hidden), hidden->output\n",
    "    def __init__(self, input_dim, hidden_dim, output_dim, num_layers=2, act_fn=nn.ReLU()):\n",
    "        super(GNNModule, self).__init__()\n",
    "        layer_list = []\n",
    "        layer_in = GNNLayer(input_dim, hidden_dim, act_fn)\n",
    "        layer_list.append(layer_in)\n",
    "        \n",
    "        for i in range(num_layers - 2):\n",
    "            layer = GNNLayer(hidden_dim, hidden_dim, act_fn)\n",
    "            layer_list.append(layer)\n",
    "        \n",
    "        layer_out = GNNLayer(hidden_dim, output_dim, act_fn)\n",
    "        layer_list.append(layer_out)\n",
    "        \n",
    "        self.layers = nn.ModuleList(layer_list)\n",
    "\n",
    "    def forward(self, x, adj_matrix):\n",
    "        for layer in self.layers:\n",
    "            x = layer(x, adj_matrix)\n",
    "        \n",
    "        return x\n",
    "        "
   ]
  },
  {
   "cell_type": "markdown",
   "metadata": {
    "id": "Rbm-Dwnfs8kZ"
   },
   "source": [
    "The `MLPModule` is a classification head that you apply to each node in the input graph after applying the gnn layers. It is a collection of `nn.Linear` layers."
   ]
  },
  {
   "cell_type": "code",
   "execution_count": 7,
   "metadata": {
    "id": "kRzeNjIWXLpD"
   },
   "outputs": [],
   "source": [
    "class MLPModule(nn.Module):\n",
    "\n",
    "    def __init__(self, input_dim, hidden_dim, output_dim, num_layers=2, act_fn=nn.ReLU()):\n",
    "        super(MLPModule, self).__init__()\n",
    "        \n",
    "        layer_list = []\n",
    "        layer_list.append(nn.Linear(input_dim, hidden_dim))\n",
    "        layer_list.append(act_fn)\n",
    "        \n",
    "        for i in range(num_layers - 2):\n",
    "            layer_list.append(nn.Linear(hidden_dim, hidden_dim))\n",
    "            layer_list.append(act_fn)\n",
    "        \n",
    "        # Output layer (without activation)\n",
    "        layer_list.append(nn.Linear(hidden_dim, output_dim))\n",
    "        \n",
    "        self.layers = nn.Sequential(*layer_list)\n",
    "\n",
    "    def forward(self, x):        \n",
    "        out = self.layers(x)\n",
    " \n",
    "        return out\n",
    "        "
   ]
  },
  {
   "cell_type": "markdown",
   "metadata": {
    "id": "B3sUDyK6wUMc"
   },
   "source": [
    "Let's aggregate everything in a single class:"
   ]
  },
  {
   "cell_type": "code",
   "execution_count": 8,
   "metadata": {
    "id": "cNVsovJTYk7X"
   },
   "outputs": [],
   "source": [
    "class CoraNodeClassification(nn.Module):\n",
    "    \n",
    "    def __init__(self, gnn_input_dim, gnn_hidden_dim, gnn_output_dim, mlp_hidden_dim, mlp_output_dim, gnn_num_layers=2, mlp_num_layers=2, gnn_act_fn = nn.ReLU(), mlp_act_fn = nn.ReLU()):\n",
    "        super(CoraNodeClassification, self).__init__()\n",
    "        self.gnnModule = GNNModule(gnn_input_dim, gnn_hidden_dim, gnn_output_dim, gnn_num_layers, gnn_act_fn)\n",
    "        self.mlpModule = MLPModule(gnn_output_dim, mlp_hidden_dim, mlp_output_dim, mlp_num_layers, mlp_act_fn)\n",
    "\n",
    "    def forward(self, x, adj_matrix):\n",
    "        y = self.gnnModule(x, adj_matrix)\n",
    "        out = self.mlpModule(y)\n",
    "        \n",
    "        return out\n",
    "        \n",
    "    # Used to reset the weights of the network when training multiple times with\n",
    "    # different hyperparameters\n",
    "    def reset_parameters(self):\n",
    "        def _reset_module_parameters(module):\n",
    "            for layer in module.children():\n",
    "                if hasattr(layer, 'reset_parameters'):\n",
    "                    layer.reset_parameters()\n",
    "                elif hasattr(layer, 'children'):\n",
    "                    for child_layer in layer.children():\n",
    "                        _reset_module_parameters(child_layer)\n",
    "\n",
    "        _reset_module_parameters(self)"
   ]
  },
  {
   "cell_type": "markdown",
   "metadata": {
    "id": "jfeXY4_koR86"
   },
   "source": [
    "### Task 1.2\n",
    "Create dedicated functions for training and testing. For training, your functions should return a vector containing the train loss and accuracy after each epoch (since Cora contains a single graph one epoch corresponds to one training iteration). You can also print out those values while the training it's running. However, given the large number of epochs, we advise you print every 8 steps or so. Your test function should return the final accuracy on the test set. If everything works correctly you should get around ~75% accuracy.\n",
    "\n",
    "Cora uses a masking approach to divide between the train and test set. Therefore, to compute the loss/accuracy, mask out the part of your output based on the current settings, e.g., `loss = model.loss_fn(y[data.train_mask], data.y[data.train_mask])`"
   ]
  },
  {
   "cell_type": "code",
   "execution_count": 9,
   "metadata": {
    "id": "UA98VowGrOtM"
   },
   "outputs": [],
   "source": [
    "# The Cora dataset contains a single graph of 2708 nodes (i.e., papers).\n",
    "# We will use some of the nodes as training set and some as test set.\n",
    "data = dataset[0].to(device)\n",
    "\n",
    "# According to the GNN equations, we need the adjacency matrix to compute each\n",
    "# layer convolution. The following line convert the sparse data\n",
    "# (i.e., list of edges) stored in the dataset in a single dense matrix.\n",
    "adj_matrix = U.to_dense_adj(data.edge_index).squeeze(0)\n",
    "\n",
    "# Define the hyperparameters we are gonna use:\n",
    "params = {\n",
    "    \"hidden_features\": 128,\n",
    "    \"gnn_output_dim\": 64,\n",
    "    \"mlp_hidden_dim\": 32,\n",
    "    \"num_gcn_layers\": 2,\n",
    "    \"num_mlp_layers\": 2,\n",
    "    \"learning_rate\": 1e-4,\n",
    "    \"weight_decay\": 0,\n",
    "    \"num_epochs\": 300,\n",
    "}\n",
    "\n",
    "# Remember to move the model to the correct device using `.to(device)`\n",
    "# The arguments to be passed to the class CoraNodeClassification __init__ functions\n",
    "# depends on how you defined the method. This is an example.\n",
    "model = CoraNodeClassification(num_features,\n",
    "                               params[\"hidden_features\"],\n",
    "                               params[\"gnn_output_dim\"],\n",
    "                               params[\"mlp_hidden_dim\"],\n",
    "                               num_classes,\n",
    "                               params[\"num_gcn_layers\"],\n",
    "                               params[\"num_mlp_layers\"],\n",
    "                               gnn_act_fn=nn.ReLU(),  \n",
    "                               mlp_act_fn=nn.ReLU()\n",
    "  ).to(device)"
   ]
  },
  {
   "cell_type": "code",
   "execution_count": 10,
   "metadata": {
    "id": "9TmqadEefi5X"
   },
   "outputs": [
    {
     "data": {
      "text/plain": [
       "15.3"
      ]
     },
     "execution_count": 10,
     "metadata": {},
     "output_type": "execute_result"
    }
   ],
   "source": [
    "def test(model, data, adj_matrix, params):\n",
    "    model.eval() \n",
    "    \n",
    "    # Forward pass\n",
    "    with torch.no_grad():\n",
    "        out = model(data.x, adj_matrix)\n",
    "\n",
    "    _, pred = out[data.test_mask].max(dim=1)\n",
    "    test_accuracy = 100* (pred == data.y[data.test_mask]).sum().item() / data.test_mask.sum().item()\n",
    "\n",
    "    return test_accuracy\n",
    "\n",
    "\n",
    "# By testing a random initialized module you should get around ~15% accuracy\n",
    "test(model, data, adj_matrix, params)"
   ]
  },
  {
   "cell_type": "code",
   "execution_count": 11,
   "metadata": {
    "id": "ycmyiU4VYOqU"
   },
   "outputs": [],
   "source": [
    "# def train(model, data, adj_matrix, params):\n",
    "#     optimizer = torch.optim.Adam(model.parameters(), lr=params[\"learning_rate\"], weight_decay=params[\"weight_decay\"])\n",
    "#     num_epochs = params[\"num_epochs\"]\n",
    "\n",
    "#     # Lists to store loss and accuracy for each epoch\n",
    "#     losses = []\n",
    "#     accuracies = []\n",
    "\n",
    "#     for epoch in range(num_epochs):\n",
    "#         model.train()\n",
    "\n",
    "#         # Forward pass\n",
    "#         out = model(data.x, adj_matrix)\n",
    "\n",
    "#         # Calculate loss (using only the training mask)\n",
    "#         train_loss = F.cross_entropy(out[data.train_mask], data.y[data.train_mask])\n",
    "\n",
    "#         # Backward pass\n",
    "#         optimizer.zero_grad()\n",
    "#         train_loss.backward()\n",
    "#         optimizer.step()\n",
    "\n",
    "#         # Calculate accuracy (using only the training mask)\n",
    "#         _, pred = out[data.train_mask].max(dim=1)\n",
    "#         train_acc = (pred == data.y[data.train_mask]).sum().item() / data.train_mask.sum().item()\n",
    "\n",
    "#         losses.append(train_loss.item())\n",
    "#         accuracies.append(train_acc)\n",
    "\n",
    "#         # Print every 8 steps\n",
    "#         if (epoch + 1) % 8 == 0:\n",
    "#             print(f\"Epoch {epoch + 1}/{num_epochs}, Loss: {train_loss.item():.4f}, Accuracy: {train_acc:.4f}\")\n",
    "\n",
    "#     return losses, accuracies\n",
    "\n",
    "# train_losses, train_accuracies = train(model, data, adj_matrix, params)\n",
    "# # Now you shold get around ~75-77%!\n",
    "# test_accuracy = test(model, data, adj_matrix, params)\n",
    "# print(\"Final test accuracy:\", test_accuracy)"
   ]
  },
  {
   "cell_type": "code",
   "execution_count": 12,
   "metadata": {},
   "outputs": [],
   "source": [
    "def train(model, data, adj_matrix, params):\n",
    "    optimizer = torch.optim.Adam(model.parameters(), lr=params[\"learning_rate\"], weight_decay=params[\"weight_decay\"])\n",
    "    num_epochs = params[\"num_epochs\"]\n",
    "\n",
    "    train_losses = []\n",
    "    train_accuracies = []\n",
    "    test_accuracies = []\n",
    "\n",
    "    for epoch in range(num_epochs):\n",
    "        model.train()  \n",
    "        out = model(data.x, adj_matrix)\n",
    "        train_loss = F.cross_entropy(out[data.train_mask], data.y[data.train_mask])\n",
    "\n",
    "        optimizer.zero_grad()\n",
    "        train_loss.backward()\n",
    "        optimizer.step()\n",
    "        \n",
    "        _, train_pred = out[data.train_mask].max(dim=1)\n",
    "        train_acc = (train_pred == data.y[data.train_mask]).sum().item() / data.train_mask.sum().item()\n",
    "\n",
    "        model.eval()  \n",
    "        with torch.no_grad():\n",
    "            test_out = model(data.x, adj_matrix)\n",
    "            _, test_pred = test_out[data.test_mask].max(dim=1)\n",
    "            test_acc = (test_pred == data.y[data.test_mask]).sum().item() / data.test_mask.sum().item()\n",
    "\n",
    "        train_losses.append(train_loss.item())\n",
    "        train_accuracies.append(train_acc)\n",
    "        test_accuracies.append(test_acc)   \n",
    "\n",
    "        # Print every 8 steps\n",
    "        if (epoch + 1) % 8 == 0:\n",
    "            print(f\"Epoch {epoch + 1}/{num_epochs}, Loss: {train_loss.item():.4f}, Train Accuracy: {train_acc:.4f}, Test Accuracy: {test_acc:.4f}\")\n",
    "\n",
    "    return train_losses, train_accuracies, test_accuracies\n"
   ]
  },
  {
   "cell_type": "markdown",
   "metadata": {
    "id": "rf6ZviVq3CVJ"
   },
   "source": [
    "#### Task 1.2.1\n",
    "Can you modify the training function to return the test accuracy at every step as well?\n",
    "By plotting the train accuracy and test accuracy over time, what can you observe?\n"
   ]
  },
  {
   "cell_type": "markdown",
   "metadata": {},
   "source": [
    "From the result, we can observe that: with the number of epoches increasing, the training and testing accuracy increase. (While training accracy increases faster than testing accuracy, with its gradient larger) But at some point, the both accuracies reach the platform, which cannot be improved over time. And testing accuracy reach the peak faster than training accuracy."
   ]
  },
  {
   "cell_type": "code",
   "execution_count": 13,
   "metadata": {
    "id": "vGI6Fo7n3VBz",
    "scrolled": false
   },
   "outputs": [
    {
     "name": "stdout",
     "output_type": "stream",
     "text": [
      "Epoch 8/300, Loss: 1.8243, Train Accuracy: 0.2929, Test Accuracy: 0.1880\n",
      "Epoch 16/300, Loss: 1.7201, Train Accuracy: 0.3714, Test Accuracy: 0.2610\n",
      "Epoch 24/300, Loss: 1.6141, Train Accuracy: 0.5286, Test Accuracy: 0.3300\n",
      "Epoch 32/300, Loss: 1.5103, Train Accuracy: 0.6857, Test Accuracy: 0.4080\n",
      "Epoch 40/300, Loss: 1.4067, Train Accuracy: 0.7357, Test Accuracy: 0.4690\n",
      "Epoch 48/300, Loss: 1.2990, Train Accuracy: 0.8071, Test Accuracy: 0.5420\n",
      "Epoch 56/300, Loss: 1.1874, Train Accuracy: 0.8571, Test Accuracy: 0.5900\n",
      "Epoch 64/300, Loss: 1.0754, Train Accuracy: 0.8857, Test Accuracy: 0.6260\n",
      "Epoch 72/300, Loss: 0.9663, Train Accuracy: 0.9357, Test Accuracy: 0.6620\n",
      "Epoch 80/300, Loss: 0.8641, Train Accuracy: 0.9429, Test Accuracy: 0.6930\n",
      "Epoch 88/300, Loss: 0.7695, Train Accuracy: 0.9571, Test Accuracy: 0.7050\n",
      "Epoch 96/300, Loss: 0.6815, Train Accuracy: 0.9786, Test Accuracy: 0.7100\n",
      "Epoch 104/300, Loss: 0.6027, Train Accuracy: 0.9857, Test Accuracy: 0.7120\n",
      "Epoch 112/300, Loss: 0.5318, Train Accuracy: 0.9857, Test Accuracy: 0.7180\n",
      "Epoch 120/300, Loss: 0.4679, Train Accuracy: 1.0000, Test Accuracy: 0.7230\n",
      "Epoch 128/300, Loss: 0.4107, Train Accuracy: 1.0000, Test Accuracy: 0.7250\n",
      "Epoch 136/300, Loss: 0.3600, Train Accuracy: 1.0000, Test Accuracy: 0.7240\n",
      "Epoch 144/300, Loss: 0.3157, Train Accuracy: 1.0000, Test Accuracy: 0.7250\n",
      "Epoch 152/300, Loss: 0.2774, Train Accuracy: 1.0000, Test Accuracy: 0.7300\n",
      "Epoch 160/300, Loss: 0.2441, Train Accuracy: 1.0000, Test Accuracy: 0.7310\n",
      "Epoch 168/300, Loss: 0.2153, Train Accuracy: 1.0000, Test Accuracy: 0.7330\n",
      "Epoch 176/300, Loss: 0.1905, Train Accuracy: 1.0000, Test Accuracy: 0.7330\n",
      "Epoch 184/300, Loss: 0.1689, Train Accuracy: 1.0000, Test Accuracy: 0.7340\n",
      "Epoch 192/300, Loss: 0.1502, Train Accuracy: 1.0000, Test Accuracy: 0.7360\n",
      "Epoch 200/300, Loss: 0.1338, Train Accuracy: 1.0000, Test Accuracy: 0.7390\n",
      "Epoch 208/300, Loss: 0.1194, Train Accuracy: 1.0000, Test Accuracy: 0.7430\n",
      "Epoch 216/300, Loss: 0.1068, Train Accuracy: 1.0000, Test Accuracy: 0.7410\n",
      "Epoch 224/300, Loss: 0.0957, Train Accuracy: 1.0000, Test Accuracy: 0.7420\n",
      "Epoch 232/300, Loss: 0.0859, Train Accuracy: 1.0000, Test Accuracy: 0.7400\n",
      "Epoch 240/300, Loss: 0.0772, Train Accuracy: 1.0000, Test Accuracy: 0.7440\n",
      "Epoch 248/300, Loss: 0.0696, Train Accuracy: 1.0000, Test Accuracy: 0.7430\n",
      "Epoch 256/300, Loss: 0.0628, Train Accuracy: 1.0000, Test Accuracy: 0.7420\n",
      "Epoch 264/300, Loss: 0.0568, Train Accuracy: 1.0000, Test Accuracy: 0.7430\n",
      "Epoch 272/300, Loss: 0.0514, Train Accuracy: 1.0000, Test Accuracy: 0.7420\n",
      "Epoch 280/300, Loss: 0.0467, Train Accuracy: 1.0000, Test Accuracy: 0.7410\n",
      "Epoch 288/300, Loss: 0.0425, Train Accuracy: 1.0000, Test Accuracy: 0.7400\n",
      "Epoch 296/300, Loss: 0.0387, Train Accuracy: 1.0000, Test Accuracy: 0.7420\n"
     ]
    },
    {
     "data": {
      "image/png": "[encoded data removed]",
      "text/plain": [
       "<Figure size 640x480 with 1 Axes>"
      ]
     },
     "metadata": {},
     "output_type": "display_data"
    },
    {
     "name": "stdout",
     "output_type": "stream",
     "text": [
      "Final test accuracy: 0.74\n"
     ]
    }
   ],
   "source": [
    "train_losses, train_accuracies, test_accuracies= train(model, data, adj_matrix, params)\n",
    "\n",
    "import matplotlib.pyplot as plt\n",
    "\n",
    "plt.plot(train_accuracies)\n",
    "plt.plot(test_accuracies)\n",
    "plt.show()\n",
    "\n",
    "print(\"Final test accuracy:\", test_accuracies[-1])"
   ]
  },
  {
   "cell_type": "markdown",
   "metadata": {
    "id": "imWx-ZW-9Ydo"
   },
   "source": [
    "## Part 2: Ablation Studies (Optional)"
   ]
  },
  {
   "cell_type": "markdown",
   "metadata": {
    "id": "6R9lWeiNsLpD"
   },
   "source": [
    "### 2.1: Importance of GNN and MLP modules\n",
    "Add a parameter to the `CoraNodeClassification` class that allows you to select which modules to enable: only GNN, only MLP, or both. For example, your `forward` should look similarly to the following:\n",
    "\n",
    "```python\n",
    "def forward(self, x, adj_matrix):\n",
    "    if self.gnn is not None:\n",
    "      x = self.gnn(x, adj_matrix)\n",
    "    \n",
    "    if self.mlp is not None:\n",
    "      x = self.mlp(x)\n",
    "\n",
    "    return x\n",
    "```\n",
    "\n",
    "What is the impact of the two modules on the final result? Play a little around `hidden_features` and `num_layers` and briefly describe what you observe."
   ]
  },
  {
   "cell_type": "markdown",
   "metadata": {
    "id": "mhFLlmGet7r_"
   },
   "source": [
    "observe: \n",
    "\n",
    "    params = {\n",
    "    \"hidden_features\": 128,\n",
    "    \"gnn_output_dim\": 7,\n",
    "    \"mlp_hidden_dim\": 7,\n",
    "    \"num_gcn_layers\": 5,\n",
    "    \"num_mlp_layers\": 2,\n",
    "    \"learning_rate\": 1e-4,\n",
    "    \"weight_decay\": 0,\n",
    "    \"num_epochs\": 2000, }\n",
    "    \n",
    " final test accuracy: 0.637, accuracy first increase, but at some point it reaches platform, and after a while accuracy increase and reaches to another platform (and stay around 0.63 permanently)\n",
    " \n",
    " \n",
    "observe:\n",
    "\n",
    "    params = {\n",
    "    \"hidden_features\": 128,\n",
    "    \"gnn_output_dim\": 7,\n",
    "    \"mlp_hidden_dim\": 7,\n",
    "    \"num_gcn_layers\": 3,\n",
    "    \"num_mlp_layers\": 2,\n",
    "    \"learning_rate\": 1e-4,\n",
    "    \"weight_decay\": 0,\n",
    "    \"num_epochs\": 2000,}\n",
    "    \n",
    " final test accuracy: 0.633, test accruacy first increases, then at around 250 epoches reaches its platform.\n",
    " But training accuracy have \"steps\".  (Why?)\n",
    " \n",
    " \n",
    " \n",
    " when setting num_gnn_layers = 2, num_mlp_layers = 10 -> test accuracies 0.38\n",
    " adding mlp-layers, make generalization power/accuracies drop greatly.\n",
    " \n",
    " when setting num_gnn_layers = 10, num_mlp_layers = 2 -> test accuracy: 0.143\n",
    " results even worse than previously.\n",
    " \n",
    " \n",
    " \n",
    " changing the output dimension of gnn layers -> better result\n",
    " \n",
    " \n",
    "     params = {\n",
    "    \"hidden_features\": 128,\n",
    "    \"gnn_output_dim\": 64,\n",
    "    \"mlp_hidden_dim\": 32,\n",
    "    \"num_gcn_layers\": 5,\n",
    "    \"num_mlp_layers\": 2,\n",
    "    \"learning_rate\": 1e-4,\n",
    "    \"weight_decay\": 0,\n",
    "    \"num_epochs\": 500,}\n",
    "    \n",
    "Train Accuracy: 0.9714, Test Accuracy: 0.6770\n",
    "\n",
    "    params = {\n",
    "    \"hidden_features\": 128,\n",
    "    \"gnn_output_dim\": 64,\n",
    "    \"mlp_hidden_dim\": 32,\n",
    "    \"num_gcn_layers\": 3,\n",
    "    \"num_mlp_layers\": 2,\n",
    "    \"learning_rate\": 1e-4,\n",
    "    \"weight_decay\": 0,\n",
    "    \"num_epochs\": 500,}\n",
    "\n",
    "Epoch 496/500, Loss: 0.0034, Train Accuracy: 1.0000, Test Accuracy: 0.7300\n",
    " \n",
    " \n",
    "    params = {\n",
    "    \"hidden_features\": 128,\n",
    "    \"gnn_output_dim\": 64,\n",
    "    \"mlp_hidden_dim\": 32,\n",
    "    \"num_gcn_layers\": 2,\n",
    "    \"num_mlp_layers\": 2,\n",
    "    \"learning_rate\": 1e-4,\n",
    "    \"weight_decay\": 0,\n",
    "    \"num_epochs\": 500,}\n",
    "    \n",
    " Epoch 496/500, Loss: 0.0088, Train Accuracy: 1.0000, Test Accuracy: 0.7310\n",
    " \n",
    " \n"
   ]
  },
  {
   "cell_type": "markdown",
   "metadata": {},
   "source": [
    "observe that without GNN module or MLP module, the training and testing accuracies drop significantly."
   ]
  },
  {
   "cell_type": "markdown",
   "metadata": {
    "id": "VW-V8RYft7GC"
   },
   "source": [
    "### 2.2: Importance of non-linearities\n",
    "Try to replace all your activation functions with identities (or simply remove them). Do the results change? What does this tell you about this specific problem?"
   ]
  },
  {
   "cell_type": "markdown",
   "metadata": {
    "id": "X4ch8LoWCkWr"
   },
   "source": [
    "### After replacing all acitivation functions with identities, the results indeed change:\n",
    "    Epoch 296/300, Loss: 0.0198, Train Accuracy: 1.0000, Test Accuracy: 0.7290\n",
    "    With same parameters, the test accuracy drop slightly. So we can conclude that the non-linearities (relu/sig) is important in training\n",
    "    \n",
    "    (doesn't change much? Why?)"
   ]
  },
  {
   "cell_type": "code",
   "execution_count": null,
   "metadata": {},
   "outputs": [],
   "source": []
  }
 ],
 "metadata": {
  "accelerator": "GPU",
  "colab": {
   "provenance": []
  },
  "kernelspec": {
   "display_name": "Python 3 (ipykernel)",
   "language": "python",
   "name": "python3"
  },
  "language_info": {
   "codemirror_mode": {
    "name": "ipython",
    "version": 3
   },
   "file_extension": ".py",
   "mimetype": "text/x-python",
   "name": "python",
   "nbconvert_exporter": "python",
   "pygments_lexer": "ipython3",
   "version": "3.10.9"
  }
 },
 "nbformat": 4,
 "nbformat_minor": 1
}
